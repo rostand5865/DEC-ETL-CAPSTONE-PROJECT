{
 "cells": [
  {
   "cell_type": "code",
   "execution_count": 4,
   "metadata": {},
   "outputs": [
    {
     "name": "stdout",
     "output_type": "stream",
     "text": [
      "2002-12-04\n"
     ]
    }
   ],
   "source": [
    "from datetime import date\n",
    "print(date(2002, 12, 4) )\n"
   ]
  },
  {
   "cell_type": "code",
   "execution_count": 115,
   "metadata": {},
   "outputs": [
    {
     "name": "stdout",
     "output_type": "stream",
     "text": [
      "QUEENS\n"
     ]
    }
   ],
   "source": [
    "from collections import Counter  \n",
    "from faker import Faker\n",
    "fake = Faker()\n",
    "#df = pd.read_csv ('Motor_Vehicle_Collisions_-_Crashes_20231117.csv', sep=',')\n",
    "borough = ['BROOKLYN', 'BRONX', 'MANHATTAN', 'QUEENS', 'STATEN ISLAND']\n",
    "#borough = list(Counter(df['BOROUGH'].astype(str)).keys())\n",
    "print(borough[fake.random_int(min=0, max=len(borough)-1)])"
   ]
  },
  {
   "cell_type": "code",
   "execution_count": 128,
   "metadata": {},
   "outputs": [
    {
     "data": {
      "text/plain": [
       "'5'"
      ]
     },
     "execution_count": 128,
     "metadata": {},
     "output_type": "execute_result"
    }
   ],
   "source": [
    "streetNames = [line.strip() for line in open(\"StreetNames.txt\", 'r')]\n",
    "from faker import Faker\n",
    "from decimal import Decimal\n",
    "fake = Faker()\n",
    "dec =  Decimal(5)\n",
    "str(dec)"
   ]
  },
  {
   "cell_type": "code",
   "execution_count": 73,
   "metadata": {},
   "outputs": [
    {
     "name": "stdout",
     "output_type": "stream",
     "text": [
      "1589\n"
     ]
    }
   ],
   "source": [
    "from collections import Counter  \n",
    "typeCodes = list(Counter(df['VEHICLE TYPE CODE 1'].astype(str)).keys())\n",
    "print(len(typeCodes))"
   ]
  },
  {
   "cell_type": "code",
   "execution_count": 56,
   "metadata": {},
   "outputs": [
    {
     "name": "stdout",
     "output_type": "stream",
     "text": [
      "4679450\n"
     ]
    }
   ],
   "source": [
    "collision_ids = Counter(df['COLLISION_ID'])\n",
    "print(df['COLLISION_ID'].max())"
   ]
  },
  {
   "cell_type": "code",
   "execution_count": 66,
   "metadata": {},
   "outputs": [
    {
     "ename": "AttributeError",
     "evalue": "'Counter' object has no attribute 'len'",
     "output_type": "error",
     "traceback": [
      "\u001b[1;31m---------------------------------------------------------------------------\u001b[0m",
      "\u001b[1;31mAttributeError\u001b[0m                            Traceback (most recent call last)",
      "\u001b[1;32mc:\\Users\\sneha\\MyFolder\\SW-DE\\Bootcamp\\Capstone\\DEC_ETL_CAPSTONE_PROJECT\\NYPD_Assets\\etl.ipynb Cell 5\u001b[0m line \u001b[0;36m2\n\u001b[0;32m      <a href='vscode-notebook-cell:/c%3A/Users/sneha/MyFolder/SW-DE/Bootcamp/Capstone/DEC_ETL_CAPSTONE_PROJECT/NYPD_Assets/etl.ipynb#W5sZmlsZQ%3D%3D?line=0'>1</a>\u001b[0m typeCode1 \u001b[39m=\u001b[39m Counter(df[\u001b[39m'\u001b[39m\u001b[39mVEHICLE TYPE CODE 1\u001b[39m\u001b[39m'\u001b[39m]\u001b[39m.\u001b[39mastype(\u001b[39mstr\u001b[39m))\n\u001b[1;32m----> <a href='vscode-notebook-cell:/c%3A/Users/sneha/MyFolder/SW-DE/Bootcamp/Capstone/DEC_ETL_CAPSTONE_PROJECT/NYPD_Assets/etl.ipynb#W5sZmlsZQ%3D%3D?line=1'>2</a>\u001b[0m \u001b[39mprint\u001b[39m(typeCode1\u001b[39m.\u001b[39;49mlen())\n",
      "\u001b[1;31mAttributeError\u001b[0m: 'Counter' object has no attribute 'len'"
     ]
    }
   ],
   "source": [
    "typeCode1 = Counter(df['VEHICLE TYPE CODE 1'].astype(str)).\n",
    "print(typeCode1.len())"
   ]
  },
  {
   "cell_type": "code",
   "execution_count": 87,
   "metadata": {},
   "outputs": [
    {
     "name": "stdout",
     "output_type": "stream",
     "text": [
      "Traffic Control Device Improper/Non-Working\n"
     ]
    }
   ],
   "source": [
    "from faker import Faker\n",
    "fake = Faker()\n",
    "contributing_factor_vehicle_1 = list(Counter(df['CONTRIBUTING FACTOR VEHICLE 1'].astype(str)).keys())\n",
    "print(contributing_factor_vehicle_1[fake.random_int(min=1, max=len(contributing_factor_vehicle_1))])"
   ]
  }
 ],
 "metadata": {
  "interpreter": {
   "hash": "ec7476cd5298a73f69e8eecc398cdeac6e308767034e2d84faebe029453106ad"
  },
  "kernelspec": {
   "display_name": "Python 3.9.12 ('dec')",
   "language": "python",
   "name": "python3"
  },
  "language_info": {
   "codemirror_mode": {
    "name": "ipython",
    "version": 3
   },
   "file_extension": ".py",
   "mimetype": "text/x-python",
   "name": "python",
   "nbconvert_exporter": "python",
   "pygments_lexer": "ipython3",
   "version": "3.11.4"
  },
  "orig_nbformat": 4
 },
 "nbformat": 4,
 "nbformat_minor": 2
}
